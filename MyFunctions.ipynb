{
 "cells": [
  {
   "cell_type": "code",
   "execution_count": 13,
   "metadata": {},
   "outputs": [],
   "source": [
    "## FUNCTIONS ##\n",
    "\"\"\"\n",
    "Returns string of hh-mm-ss\n",
    "\"\"\"\n",
    "from time import gmtime, strftime\n",
    "def getTime():\n",
    "    return strftime(\"%H-%M-%S\", gmtime())\n",
    "\n",
    "\"\"\"\n",
    "Splits input string by delimiter\n",
    "Returns list of these strings \n",
    "\"\"\"\n",
    "import re\n",
    "def split(string):\n",
    "    return re.split(', |; |  ', string)\n",
    "\n",
    "\"\"\"\n",
    "Add column with to sheet to max column of sheet\n",
    "Labels first row with column_header\n",
    "\"\"\"\n",
    "def add_column(sheet, column_header):\n",
    "    max_col = sheet1.max_column\n",
    "    sheet.cell(row=1, column=max_col+1).value = column_header\n",
    "\n",
    "\"\"\"\n",
    "Returns True if string contains any of words in keywords\n",
    "Else return False\n",
    "\"\"\"\n",
    "def contains(statement, keywords):\n",
    "    for word in keywords:\n",
    "        if word in statement:\n",
    "            return True\n",
    "    return False"
   ]
  },
  {
   "cell_type": "code",
   "execution_count": null,
   "metadata": {},
   "outputs": [],
   "source": [
    "## Test regex\n",
    "#s = \"Autism Spectrum Disorder with Intellectual Disability  Attention Deficit Hyperactivity Disorder, Combined Type  Unspecified Anxiety Disorder, with features of OCD  Torette's Disorder  Specific photophobia of needles and medical intervention  Unspecified Mood Disorder, query irritability associated with autism vs depressive episode or vs depressive disorder vs mood dysregulation disorder  Significant familial stress\"\n",
    "#sp = split(s)\n",
    "#print(sp)"
   ]
  }
 ],
 "metadata": {
  "kernelspec": {
   "display_name": "Python 3",
   "language": "python",
   "name": "python3"
  },
  "language_info": {
   "codemirror_mode": {
    "name": "ipython",
    "version": 3
   },
   "file_extension": ".py",
   "mimetype": "text/x-python",
   "name": "python",
   "nbconvert_exporter": "python",
   "pygments_lexer": "ipython3",
   "version": "3.6.4"
  }
 },
 "nbformat": 4,
 "nbformat_minor": 2
}
