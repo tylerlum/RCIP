{
 "cells": [
  {
   "cell_type": "code",
   "execution_count": 1,
   "metadata": {},
   "outputs": [],
   "source": [
    "import openpyxl"
   ]
  },
  {
   "cell_type": "code",
   "execution_count": 2,
   "metadata": {},
   "outputs": [],
   "source": [
    "%run MyFunctions.ipynb"
   ]
  },
  {
   "cell_type": "code",
   "execution_count": 3,
   "metadata": {},
   "outputs": [],
   "source": [
    "## Import data\n",
    "filename = \"ResearchInChildAndAd_DATA_2018-12-14_1531.xlsx\"\n",
    "workbook = openpyxl.load_workbook(filename)\n",
    "sheet1 = workbook[\"ResearchInChildAndAd_DATA_2018-\"]\n",
    "sheet2 = workbook[\"Tasks\"]"
   ]
  },
  {
   "cell_type": "code",
   "execution_count": 4,
   "metadata": {},
   "outputs": [],
   "source": [
    "## Make columns for new data\n",
    "IGNORE = ['query', 'vs', 'r/o', 'rule out', 'versus']\n",
    "KEYWORDS_DICT = {'ADHD': ['attention', 'adhd', 'add'], \n",
    "                 'ASD': ['autis', 'asd'],\n",
    "                 'Anxiety': ['anxiety', 'panic', 'phobi'], \n",
    "                 'Bipolar': ['bipolar', 'mani'],\n",
    "                 'Depression': ['depress', 'MDD', 'PDD', 'mood', 'dysthymi'], \n",
    "                 'EOS': ['schizo'], \n",
    "                 'FASD': ['fasd', 'fetal', 'alcohol'], \n",
    "                 'OCD': ['obsess', 'compuls', 'ocd'], \n",
    "                 'ODD': ['opposit', 'defiant', 'odd'], \n",
    "                 'Parent-Child': ['parent'], \n",
    "                 'Personality': ['cluster', 'personality', 'histrio', 'borderline'], \n",
    "                 'Psychosis': ['psychosis', 'psychotic'],\n",
    "                 'SUD': ['substance', 'SUD', 'use disorder'], \n",
    "                 'Trauma': ['trauma', 'adjust', 'ptsd'], \n",
    "                 'eating': ['eating', 'anorexi', 'bulimi', 'binge'], \n",
    "                 'neurodevelopmental': ['learning', 'delay', 'neurodevelopment', 'intellectual', 'conduct', 'cerebral', 'palsy', 'chromosom'],\n",
    "                 'somatic': ['somati'], \n",
    "                 'suicide': ['suicid']}\n",
    "# dont forget handle fads and NOT personality for EOS\n",
    "# read file in instead\n",
    "ILLNESSES = []\n",
    "for i in KEYWORDS_DICT.keys():\n",
    "    ILLNESSES.append(i)\n",
    "\n",
    "## Add columns\n",
    "set_headers(sheet1, 'admission')\n",
    "set_headers(sheet1, 'discharge')"
   ]
  },
  {
   "cell_type": "code",
   "execution_count": 5,
   "metadata": {},
   "outputs": [],
   "source": [
    "## Create a dictionary of column names\n",
    "ColNames = {}\n",
    "Current  = 0\n",
    "for COL in sheet1.iter_cols(1, sheet1.max_column):\n",
    "    ColNames[COL[0].value] = Current\n",
    "    Current += 1"
   ]
  },
  {
   "cell_type": "code",
   "execution_count": 6,
   "metadata": {},
   "outputs": [],
   "source": [
    "## Module 1: Set binary values to 0\n",
    "set_binaries_to_zero(sheet1, \"admission\", ColNames)\n",
    "set_binaries_to_zero(sheet1, \"discharge\", ColNames)"
   ]
  },
  {
   "cell_type": "code",
   "execution_count": 7,
   "metadata": {},
   "outputs": [],
   "source": [
    "## Module 2: Fill in main diagnosis\n",
    "set_main_diagnosis(sheet1, \"admission\", ColNames)\n",
    "set_main_diagnosis(sheet1, \"discharge\", ColNames)"
   ]
  },
  {
   "cell_type": "code",
   "execution_count": 8,
   "metadata": {},
   "outputs": [],
   "source": [
    "## Module 3: Read Diagnosis, break into substrings, fill in\n",
    "one_hot_encode_diagnoses(sheet1, 'admission', ColNames)\n",
    "one_hot_encode_diagnoses(sheet1, 'discharge', ColNames)"
   ]
  },
  {
   "cell_type": "code",
   "execution_count": 9,
   "metadata": {
    "scrolled": true
   },
   "outputs": [],
   "source": [
    "## Output file\n",
    "workbook.save(\"output-{}.xlsx\".format(getTime()))"
   ]
  },
  {
   "cell_type": "code",
   "execution_count": null,
   "metadata": {},
   "outputs": [],
   "source": []
  },
  {
   "cell_type": "code",
   "execution_count": null,
   "metadata": {},
   "outputs": [],
   "source": []
  }
 ],
 "metadata": {
  "kernelspec": {
   "display_name": "Python 3",
   "language": "python",
   "name": "python3"
  },
  "language_info": {
   "codemirror_mode": {
    "name": "ipython",
    "version": 3
   },
   "file_extension": ".py",
   "mimetype": "text/x-python",
   "name": "python",
   "nbconvert_exporter": "python",
   "pygments_lexer": "ipython3",
   "version": "3.6.4"
  }
 },
 "nbformat": 4,
 "nbformat_minor": 2
}
