{
 "cells": [
  {
   "cell_type": "code",
   "execution_count": 1,
   "metadata": {},
   "outputs": [],
   "source": [
    "import openpyxl"
   ]
  },
  {
   "cell_type": "code",
   "execution_count": 2,
   "metadata": {},
   "outputs": [],
   "source": [
    "%run MyFunctions.ipynb"
   ]
  },
  {
   "cell_type": "code",
   "execution_count": 13,
   "metadata": {},
   "outputs": [
    {
     "name": "stdout",
     "output_type": "stream",
     "text": [
      "['ResearchInChildAndAd_DATA_2018-', 'Illness Keywords', 'MRR Keywords', 'Symptoms']\n"
     ]
    }
   ],
   "source": [
    "## Import data\n",
    "#filename = \"ResearchInChildAndAd_DATA_2018-12-14_1531.xlsx\"\n",
    "filename = \"FULLWITHOUTTYLERSSTUFFResearchInChildAndAd_DATA_2018-12-14_1531.xlsx\"\n",
    "workbook = openpyxl.load_workbook(filename)\n",
    "sheet1 = workbook[\"ResearchInChildAndAd_DATA_2018-\"]\n",
    "#sheet2 = workbook[\"Tasks\"]\n",
    "print(workbook.sheetnames)\n",
    "sheet3 = workbook[\"Illness Keywords\"]\n",
    "sheet4 = workbook[\"MRR Keywords\"]\n",
    "sheet5 = workbook[\"Symptoms\"]"
   ]
  },
  {
   "cell_type": "code",
   "execution_count": 17,
   "metadata": {},
   "outputs": [
    {
     "name": "stdout",
     "output_type": "stream",
     "text": [
      "{'Symptoms': 0, None: 3}\n"
     ]
    }
   ],
   "source": [
    "## Make columns for new data\n",
    "IGNORE_KEYWORDS = ['query', 'vs', 'r/o', 'rule out', 'versus']\n",
    "\n",
    "## Get illnesses\n",
    "sheet3_columns = get_column_names(sheet3)\n",
    "ILLNESS_KEYWORDS = read_in_illness_keywords(sheet3, sheet3_columns)\n",
    "ILLNESSES = get_key_list(ILLNESS_KEYWORDS)\n",
    "\n",
    "## Get reasons for referral\n",
    "sheet4_columns = get_column_names(sheet4)\n",
    "REASONS_FOR_REFERRAL_KEYWORDS = read_in_reasons_for_referral(sheet4, sheet4_columns)\n",
    "REASONS_FOR_REFERRAL = get_key_list(REASONS_FOR_REFERRAL_KEYWORDS)\n",
    "\n",
    "## Get other symptoms\n",
    "sheet5_columns = get_column_names(sheet5)\n",
    "print(sheet5_columns)\n",
    "SYMPTOMS_KEYWORDS = read_in_symptoms_keywords(sheet5, sheet5_columns)\n",
    "SYMPTOMS = get_key_list(SYMPTOMS_KEYWORDS)"
   ]
  },
  {
   "cell_type": "code",
   "execution_count": 16,
   "metadata": {},
   "outputs": [
    {
     "name": "stdout",
     "output_type": "stream",
     "text": [
      "['Neurodevelopmental', 'ADHD', 'Intellectual Disability/Global Developmental Delay', 'ASD', 'FASD', 'Schizophrenia Spectrum and Other Psychotic Disorders', 'Bipolar', 'Depression', 'Anxiety', 'OCD', 'Trauma', 'Dissociative', 'Somatic', 'Eating', 'Elimination', 'Sleep-Wake Disorders', 'Gender Dysphoria', 'Disruptive, Impulse-Control, and Conduct', 'Substance-Related and Addictive', 'Personality', 'Suicidal', 'Parent-Child Relational Issues', 'Learning']\n",
      "*******************\n",
      "{'Neurodevelopmental': ['neurodevelopment', 'cerebral', 'palsy', 'chromosom', 'xxx', 'triplex', 'tic'], 'ADHD': ['attention', 'adhd', 'add'], 'Intellectual Disability/Global Developmental Delay': ['intellectual', 'id', 'global', 'gdd', 'delay'], 'ASD': ['autis', 'asd'], 'FASD': ['fasd', 'fetal'], 'Schizophrenia Spectrum and Other Psychotic Disorders': ['schizo', 'psychos', 'psychot', 'delusion', 'catatoni'], 'Bipolar': ['bipolar', 'mani'], 'Depression': ['depress', 'mdd', 'pdd', 'mood', 'dysthymi', 'premenstrual', 'seasonal'], 'Anxiety': ['anxiety', 'panic', 'phobi', 'mutism', 'gad'], 'OCD': ['obsess', 'compuls', 'ocd', 'dysmorphi', 'hoarding', 'excoriation'], 'Trauma': ['attach', 'trauma', 'ptsd', 'adjust', 'abuse', 'assault'], 'Dissociative': ['dissociat', 'depersonalization', 'derealization'], 'Somatic': ['somati', 'conversion', 'psychosomatic'], 'Eating': ['eating', 'anorexi', 'bulimi', 'binge', 'pica', 'arfid', 'intake'], 'Elimination': ['enuresis', 'elimination', 'encopresis'], 'Sleep-Wake Disorders': ['somn', 'apnea', 'nightmare', 'sleep'], 'Gender Dysphoria': ['gender'], 'Disruptive, Impulse-Control, and Conduct': ['opposit', 'defiant', 'odd', 'conduct', 'antisocial', 'omani', 'disruptive'], 'Substance-Related and Addictive': ['sud', 'usedisorder', 'intoxicat', 'withdrawal'], 'Personality': ['cluster', 'personality', 'histrionic', 'borderline', 'antisocial', 'narcissist'], 'Suicidal': ['suicid', 'si'], 'Parent-Child Relational Issues': ['parent'], 'Learning': ['learning', 'dyslexi', 'communi']}\n",
      "*******************\n",
      "['Aggression', 'Anxiety', 'Behaviour', 'Depression', 'Mood', 'Psychosis', 'Substance', 'Suicide', 'Other', None]\n",
      "*******************\n",
      "{'Aggression': ['aggress'], 'Anxiety': ['anxiety', 'panic', 'anxious'], 'Behaviour': ['behaviour', 'behavior', 'disrupt'], 'Depression': ['depress'], 'Mood': ['mood'], 'Psychosis': ['psychos', 'psychot', 'hallucinat'], 'Substance': ['substance', 'drug', 'overdos'], 'Suicide': ['suicid', 'si'], 'Other': [], None: []}\n",
      "*******************\n"
     ]
    }
   ],
   "source": [
    "print(ILLNESSES)\n",
    "print(\"*******************\")\n",
    "print(ILLNESS_KEYWORDS)\n",
    "print(\"*******************\")\n",
    "print(REASONS_FOR_REFERRAL)\n",
    "print(\"*******************\")\n",
    "print(REASONS_FOR_REFERRAL_KEYWORDS)\n",
    "print(\"*******************\")\n"
   ]
  },
  {
   "cell_type": "code",
   "execution_count": null,
   "metadata": {},
   "outputs": [],
   "source": [
    "## Add columns\n",
    "set_headers(sheet1, 'admission', ILLNESSES)\n",
    "set_headers(sheet1, 'discharge', ILLNESSES)\n",
    "\n",
    "set_referral_reason_headers(sheet1, REASONS_FOR_REFERRAL)"
   ]
  },
  {
   "cell_type": "code",
   "execution_count": null,
   "metadata": {},
   "outputs": [],
   "source": [
    "## Create a dictionary of column names\n",
    "column_names = get_column_names(sheet1)"
   ]
  },
  {
   "cell_type": "code",
   "execution_count": null,
   "metadata": {},
   "outputs": [],
   "source": [
    "## Module 1: Set binary values to 0\n",
    "set_binaries_to_zero(sheet1, \"admission\", ILLNESSES)\n",
    "set_binaries_to_zero(sheet1, \"discharge\", ILLNESSES)\n",
    "\n",
    "set_mrr_to_zero(sheet1, REASONS_FOR_REFERRAL)"
   ]
  },
  {
   "cell_type": "code",
   "execution_count": null,
   "metadata": {},
   "outputs": [],
   "source": [
    "## Module 2: Fill in main diagnosis\n",
    "set_main_diagnosis(sheet1, \"admission\", IGNORE_KEYWORDS, ILLNESS_KEYWORDS)\n",
    "set_main_diagnosis(sheet1, \"discharge\", IGNORE_KEYWORDS, ILLNESS_KEYWORDS)"
   ]
  },
  {
   "cell_type": "code",
   "execution_count": null,
   "metadata": {},
   "outputs": [],
   "source": [
    "## Module 3: Read Diagnosis, break into substrings, fill in binaries\n",
    "one_hot_encode_diagnoses(sheet1, 'admission', IGNORE_KEYWORDS, ILLNESS_KEYWORDS)\n",
    "one_hot_encode_diagnoses(sheet1, 'discharge', IGNORE_KEYWORDS, ILLNESS_KEYWORDS)"
   ]
  },
  {
   "cell_type": "code",
   "execution_count": null,
   "metadata": {},
   "outputs": [],
   "source": [
    "## Module 4: Read Reason for Referral, break into substrings, fill in binaries\n",
    "one_hot_encode_reasons_for_referral(sheet1, IGNORE_KEYWORDS, REASONS_FOR_REFERRAL_KEYWORDS)"
   ]
  },
  {
   "cell_type": "code",
   "execution_count": null,
   "metadata": {
    "scrolled": true
   },
   "outputs": [],
   "source": [
    "## Output file\n",
    "workbook.save(\"output-{}.xlsx\".format(getTime()))"
   ]
  }
 ],
 "metadata": {
  "kernelspec": {
   "display_name": "Python 3",
   "language": "python",
   "name": "python3"
  },
  "language_info": {
   "codemirror_mode": {
    "name": "ipython",
    "version": 3
   },
   "file_extension": ".py",
   "mimetype": "text/x-python",
   "name": "python",
   "nbconvert_exporter": "python",
   "pygments_lexer": "ipython3",
   "version": "3.6.4"
  }
 },
 "nbformat": 4,
 "nbformat_minor": 2
}
