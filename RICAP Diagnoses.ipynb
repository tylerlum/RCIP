{
 "cells": [
  {
   "cell_type": "code",
   "execution_count": 1,
   "metadata": {},
   "outputs": [],
   "source": [
    "import openpyxl"
   ]
  },
  {
   "cell_type": "code",
   "execution_count": 2,
   "metadata": {},
   "outputs": [],
   "source": [
    "%run MyFunctions.ipynb"
   ]
  },
  {
   "cell_type": "code",
   "execution_count": 3,
   "metadata": {},
   "outputs": [],
   "source": [
    "## Import data\n",
    "filename = \"ResearchInChildAndAd_DATA_2018-12-14_1531.xlsx\"\n",
    "workbook = openpyxl.load_workbook(filename)\n",
    "sheet1 = workbook[\"ResearchInChildAndAd_DATA_2018-\"]\n",
    "sheet2 = workbook[\"Tasks\"]\n",
    "sheet3 = workbook[\"Illness_Keywords\"]"
   ]
  },
  {
   "cell_type": "code",
   "execution_count": 4,
   "metadata": {},
   "outputs": [],
   "source": [
    "## Make columns for new data\n",
    "IGNORE_KEYWORDS = ['query', 'vs', 'r/o', 'rule out', 'versus']\n",
    "sheet3_columns = get_column_names(sheet3)\n",
    "ILLNESS_KEYWORDS = read_in_illness_keywords(sheet3, sheet3_columns)\n",
    "\n",
    "ILLNESSES = get_key_list(ILLNESS_KEYWORDS)\n",
    "\n",
    "## Add columns\n",
    "set_headers(sheet1, 'admission', ILLNESSES)\n",
    "set_headers(sheet1, 'discharge', ILLNESSES)"
   ]
  },
  {
   "cell_type": "code",
   "execution_count": 5,
   "metadata": {},
   "outputs": [],
   "source": [
    "## Create a dictionary of column names\n",
    "column_names = get_column_names(sheet1)"
   ]
  },
  {
   "cell_type": "code",
   "execution_count": 6,
   "metadata": {},
   "outputs": [],
   "source": [
    "## Module 1: Set binary values to 0\n",
    "set_binaries_to_zero(sheet1, \"admission\", ILLNESSES)\n",
    "set_binaries_to_zero(sheet1, \"discharge\", ILLNESSES)"
   ]
  },
  {
   "cell_type": "code",
   "execution_count": 7,
   "metadata": {},
   "outputs": [],
   "source": [
    "## Module 2: Fill in main diagnosis\n",
    "set_main_diagnosis(sheet1, \"admission\", IGNORE_KEYWORDS, ILLNESS_KEYWORDS)\n",
    "set_main_diagnosis(sheet1, \"discharge\", IGNORE_KEYWORDS, ILLNESS_KEYWORDS)"
   ]
  },
  {
   "cell_type": "code",
   "execution_count": 8,
   "metadata": {},
   "outputs": [],
   "source": [
    "## Module 3: Read Diagnosis, break into substrings, fill in\n",
    "one_hot_encode_diagnoses(sheet1, 'admission', IGNORE_KEYWORDS, ILLNESS_KEYWORDS)\n",
    "one_hot_encode_diagnoses(sheet1, 'discharge', IGNORE_KEYWORDS, ILLNESS_KEYWORDS)"
   ]
  },
  {
   "cell_type": "code",
   "execution_count": 9,
   "metadata": {
    "scrolled": true
   },
   "outputs": [],
   "source": [
    "## Output file\n",
    "workbook.save(\"output-{}.xlsx\".format(getTime()))"
   ]
  }
 ],
 "metadata": {
  "kernelspec": {
   "display_name": "Python 3",
   "language": "python",
   "name": "python3"
  },
  "language_info": {
   "codemirror_mode": {
    "name": "ipython",
    "version": 3
   },
   "file_extension": ".py",
   "mimetype": "text/x-python",
   "name": "python",
   "nbconvert_exporter": "python",
   "pygments_lexer": "ipython3",
   "version": "3.6.4"
  }
 },
 "nbformat": 4,
 "nbformat_minor": 2
}
