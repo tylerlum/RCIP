{
 "cells": [
  {
   "cell_type": "code",
   "execution_count": 1,
   "metadata": {},
   "outputs": [],
   "source": [
    "import openpyxl"
   ]
  },
  {
   "cell_type": "code",
   "execution_count": 2,
   "metadata": {},
   "outputs": [],
   "source": [
    "%run MyFunctions.ipynb"
   ]
  },
  {
   "cell_type": "code",
   "execution_count": 3,
   "metadata": {},
   "outputs": [],
   "source": [
    "## Import data\n",
    "filename = \"FULLWITHOUTTYLERSSTUFFResearchInChildAndAd_DATA_2018-12-14_1531.xlsx\"\n",
    "workbook = openpyxl.load_workbook(filename)\n",
    "\n",
    "## Get sheets\n",
    "data_sheet = workbook[\"ResearchInChildAndAd_DATA_2018-\"]\n",
    "illness_keywords_sheet = workbook[\"Illness Keywords\"]\n",
    "mrr_sheet = workbook[\"MRR Keywords\"]\n",
    "symptoms_sheet = workbook[\"Symptoms\"]"
   ]
  },
  {
   "cell_type": "code",
   "execution_count": 4,
   "metadata": {},
   "outputs": [],
   "source": [
    "## Setup keywords\n",
    "IGNORE_KEYWORDS = ['query', 'vs', 'r/o', 'rule out', 'versus']\n",
    "\n",
    "## Get illnesses\n",
    "ILLNESS_KEYWORDS = read_in_illness_keywords(illness_keywords_sheet)\n",
    "ILLNESSES = get_key_list(ILLNESS_KEYWORDS)\n",
    "\n",
    "## Get reasons for referral\n",
    "REASON_FOR_REFERRAL_KEYWORDS = read_in_mrr_keywords(mrr_sheet)\n",
    "REASONS_FOR_REFERRAL = get_key_list(REASON_FOR_REFERRAL_KEYWORDS)\n",
    "\n",
    "## Get other symptoms\n",
    "SYMPTOM_KEYWORDS = read_in_symptom_keywords(symptoms_sheet)\n",
    "SYMPTOMS = get_key_list(SYMPTOM_KEYWORDS)"
   ]
  },
  {
   "cell_type": "code",
   "execution_count": 5,
   "metadata": {},
   "outputs": [],
   "source": [
    "## Module 0: Add columns headers\n",
    "set_illness_headers(data_sheet, 'admission', ILLNESSES)\n",
    "set_illness_headers(data_sheet, 'discharge', ILLNESSES)\n",
    "set_mrr_headers(data_sheet, REASONS_FOR_REFERRAL)\n",
    "set_symptom_headers(data_sheet, SYMPTOMS)"
   ]
  },
  {
   "cell_type": "code",
   "execution_count": 6,
   "metadata": {},
   "outputs": [],
   "source": [
    "## Module 1: Set binary values to 0\n",
    "set_illnesses_to_zero(data_sheet, \"admission\", ILLNESSES)\n",
    "set_illnesses_to_zero(data_sheet, \"discharge\", ILLNESSES)\n",
    "set_mrr_to_zero(data_sheet, REASONS_FOR_REFERRAL)\n",
    "set_symptoms_to_zero(data_sheet, SYMPTOMS)"
   ]
  },
  {
   "cell_type": "code",
   "execution_count": 7,
   "metadata": {},
   "outputs": [],
   "source": [
    "## Module 2: Fill in main diagnosis\n",
    "set_main_diagnosis(data_sheet, \"admission\", IGNORE_KEYWORDS, ILLNESS_KEYWORDS)\n",
    "set_main_diagnosis(data_sheet, \"discharge\", IGNORE_KEYWORDS, ILLNESS_KEYWORDS)"
   ]
  },
  {
   "cell_type": "code",
   "execution_count": 8,
   "metadata": {},
   "outputs": [],
   "source": [
    "## Module 3: Read diagnoses, one hot encode symptoms\n",
    "ohe_illnesses(data_sheet, 'admission', IGNORE_KEYWORDS, ILLNESS_KEYWORDS)\n",
    "ohe_illnesses(data_sheet, 'discharge', IGNORE_KEYWORDS, ILLNESS_KEYWORDS)"
   ]
  },
  {
   "cell_type": "code",
   "execution_count": 9,
   "metadata": {},
   "outputs": [],
   "source": [
    "## Module 4: Read ref_reason + chief_complaint, one hot encode symptoms\n",
    "ohe_mrr(data_sheet, IGNORE_KEYWORDS, REASON_FOR_REFERRAL_KEYWORDS)"
   ]
  },
  {
   "cell_type": "code",
   "execution_count": 10,
   "metadata": {},
   "outputs": [],
   "source": [
    "## Module 5: Read all four info columns, one hot encode symptoms\n",
    "ohe_symptoms(data_sheet, IGNORE_KEYWORDS, SYMPTOM_KEYWORDS)"
   ]
  },
  {
   "cell_type": "code",
   "execution_count": 11,
   "metadata": {
    "scrolled": true
   },
   "outputs": [],
   "source": [
    "## Output file\n",
    "workbook.save(\"output-{}.xlsx\".format(getTime()))"
   ]
  }
 ],
 "metadata": {
  "kernelspec": {
   "display_name": "Python 3",
   "language": "python",
   "name": "python3"
  },
  "language_info": {
   "codemirror_mode": {
    "name": "ipython",
    "version": 3
   },
   "file_extension": ".py",
   "mimetype": "text/x-python",
   "name": "python",
   "nbconvert_exporter": "python",
   "pygments_lexer": "ipython3",
   "version": "3.6.4"
  }
 },
 "nbformat": 4,
 "nbformat_minor": 2
}
