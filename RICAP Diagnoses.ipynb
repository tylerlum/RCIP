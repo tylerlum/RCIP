{
 "cells": [
  {
   "cell_type": "code",
   "execution_count": 1,
   "metadata": {},
   "outputs": [],
   "source": [
    "import openpyxl"
   ]
  },
  {
   "cell_type": "code",
   "execution_count": 2,
   "metadata": {},
   "outputs": [],
   "source": [
    "%run MyFunctions.ipynb"
   ]
  },
  {
   "cell_type": "code",
   "execution_count": 3,
   "metadata": {},
   "outputs": [],
   "source": [
    "## Import data\n",
    "filename = \"ResearchInChildAndAd_DATA_2018-12-14_1531.xlsx\"\n",
    "workbook = openpyxl.load_workbook(filename)\n",
    "sheet1 = workbook[\"ResearchInChildAndAd_DATA_2018-\"]\n",
    "sheet2 = workbook[\"Tasks\"]"
   ]
  },
  {
   "cell_type": "code",
   "execution_count": 4,
   "metadata": {},
   "outputs": [],
   "source": [
    "## Make columns for new data\n",
    "IGNORE = ['query', 'vs', 'r/o', 'rule out', 'versus']\n",
    "ILLNESS_KEYWORDS = {'ADHD': ['attention', 'adhd', 'add'], \n",
    "                 'ASD': ['autis', 'asd'],\n",
    "                 'Anxiety': ['anxiety', 'panic', 'phobi'], \n",
    "                 'Bipolar': ['bipolar', 'mani'],\n",
    "                 'Depression': ['depress', 'MDD', 'PDD', 'mood', 'dysthymi'], \n",
    "                 'EOS': ['schizo'], \n",
    "                 'FASD': ['fasd', 'fetal', 'alcohol'], \n",
    "                 'OCD': ['obsess', 'compuls', 'ocd'], \n",
    "                 'ODD': ['opposit', 'defiant', 'odd'], \n",
    "                 'Parent-Child': ['parent'], \n",
    "                 'Personality': ['cluster', 'personality', 'histrio', 'borderline'], \n",
    "                 'Psychosis': ['psychosis', 'psychotic'],\n",
    "                 'SUD': ['substance', 'SUD', 'use disorder'], \n",
    "                 'Trauma': ['trauma', 'adjust', 'ptsd'], \n",
    "                 'eating': ['eating', 'anorexi', 'bulimi', 'binge'], \n",
    "                 'neurodevelopmental': ['learning', 'delay', 'neurodevelopment', 'intellectual', 'conduct', 'cerebral', 'palsy', 'chromosom'],\n",
    "                 'somatic': ['somati'], \n",
    "                 'suicide': ['suicid']}\n",
    "# could read file for keywords instead\n",
    "ILLNESSES = []\n",
    "for i in ILLNESS_KEYWORDS.keys():\n",
    "    ILLNESSES.append(i)\n",
    "\n",
    "## Add columns\n",
    "set_headers(sheet1, 'admission')\n",
    "set_headers(sheet1, 'discharge')"
   ]
  },
  {
   "cell_type": "code",
   "execution_count": 5,
   "metadata": {},
   "outputs": [],
   "source": [
    "## Create a dictionary of column names\n",
    "ColNames = {}\n",
    "Current  = 0\n",
    "for COL in sheet1.iter_cols(1, sheet1.max_column):\n",
    "    ColNames[COL[0].value] = Current\n",
    "    Current += 1"
   ]
  },
  {
   "cell_type": "code",
   "execution_count": 6,
   "metadata": {},
   "outputs": [],
   "source": [
    "## Module 1: Set binary values to 0\n",
    "set_binaries_to_zero(sheet1, \"admission\", ColNames)\n",
    "set_binaries_to_zero(sheet1, \"discharge\", ColNames)"
   ]
  },
  {
   "cell_type": "code",
   "execution_count": 7,
   "metadata": {},
   "outputs": [
    {
     "name": "stdout",
     "output_type": "stream",
     "text": [
      "ASD Removal for : ['fasd', 'adhd', 'conduct disorder', 'ptsd', '']\n",
      "**************\n",
      "ASD Removal for : ['fasd', 'adhd', 'unspecified anxiety disorder', 'developmental coordination disorder', 'significant behavioural issues', '']\n",
      "**************\n",
      "ASD Removal for : ['fasd', 'adhd', 'query anxiety disorder', 'insecure attachment with violence when his relational needs are not met', '']\n",
      "**************\n",
      "Suicide Removal for : ['major depressive episode with suicidal ideation', 'adhd by history', 'no current unspecified anxiety by history', 'tic disorder by history', 'not current']\n",
      "**************\n",
      "Suicide Removal for : ['major depressive episode with suicidal ideation', 'generalized anxiety disorder with panic attacks', 'rule out panic disorder', 'limited access to psychiatric support', 'limited social support']\n",
      "**************\n",
      "Suicide Removal for : ['major depressive episode with suicidal ideation', 'generalized anxiety disorder with panic attacks', 'r/o panic disorder', 'limited access to psychiatric support', 'limited social support']\n",
      "**************\n",
      "Suicide Removal for : ['adjustment disorder with acute-on-chronic suicidal ideation', 'rule out unspecified depressive disorder', 'borderline personality traits']\n",
      "**************\n",
      "ASD Removal for : ['fasd', 'adhd', 'odd', 'mood disorder nos', 'r/o bipolar disorder', 'mild dd', '']\n",
      "**************\n",
      "Suicide Removal for : ['adjustment disorder with impulsive suicide attempt', 'interpersonal conflict', 'parent-child relational problem', 'fasd', 'r/o mdd', 'r/o ptsd', '']\n",
      "**************\n",
      "ASD Removal for : ['r/o bipolar mood disorder', 'r/o acute intermittent explosive disorder', 'r/o unspecified anxiety', 'history of sensory symptoms', 'fasd', 'adhd', 'past history of reactive attachment disorder and ptsd.']\n",
      "**************\n",
      "ASD Removal for : ['fasd', 'major depressive disorder', 'complex trauma ']\n",
      "**************\n",
      "ASD Removal for : ['fasd', 'polysubstance use disorder', 'adhd', 'ptsd', 'acute suicidal ideation and homicidal ideation', 'r/o mdd vs mood disorder secondary to substance use']\n",
      "**************\n",
      "Suicide Removal for : ['major depressive disorder with suicidal ideation', 'cluster b traits', 'r/o substance use disorder (alcohol', 'benzodiazepines', 'cocaine)', 'r/o substance-induced mood disorder', 'parent-child relational problem', 'r/o depressive disorder due to another medical condition ']\n",
      "**************\n",
      "Suicide Removal for : ['major depressive disorder with active and acute suicidal ideation', 'generalized anxiety disorder with panic attacks', 'r/o unspecified eating disorder', 'r/o parent-child relational problems', '']\n",
      "**************\n",
      "Suicide Removal for : ['unspecified depressive disorder with increased acuity of suicidal ideation over the past month']\n",
      "**************\n",
      "Suicide Removal for : ['unspecified depressive disorder with increased acuity of suicidal ideation over the past month']\n",
      "**************\n",
      "ASD Removal for : ['fasd', 'adhd']\n",
      "**************\n",
      "ASD Removal for : ['fasd', 'adhd', 'learning disability', 'lagnuage processing difficulties', 'ptsd', 'anxiety', '']\n",
      "**************\n",
      "ASD Removal for : ['fasd', 'adhd', 'reactive attachment disorder', 'developmental coordination disorder', 'learning disorder in math and written output', 'unspecified anxiety', 'ptsd', '']\n",
      "**************\n",
      "Suicide Removal for : ['adjustment disorder with suicidal ideation', 'parent-child relationship discord', '']\n",
      "**************\n",
      "ASD Removal for : ['fasd', 'adhd', 'psychotic episode unspecified with acute suicidal ideation', '']\n",
      "**************\n",
      "ASD Removal for : ['fasd', 'ptsd', 'adhd', 'conduct disorder', '']\n",
      "**************\n",
      "ASD Removal for : ['fasd', 'anxiety disorder nos', 'query bipolarity']\n",
      "**************\n",
      "ASD Removal for : ['fasd', 'id', 'unspecified depressive disorder', 'unspecified anxiety disorder', 'insecure attachment style', '']\n",
      "**************\n",
      "Suicide Removal for : ['adjustment disorder with recent suicidal ideation while intoxicated', 'adhd', 'specific learning disorder and deficits in expressive and receptive communication', 'developmental trauma', 'r/o major depressive disorder', '']\n",
      "**************\n",
      "ASD Removal for : ['fasd', 'adhd', 'query anxiety disorder', 'insecure attachment with violence when his relational needs are not met', '']\n",
      "**************\n",
      "ASD Removal for : ['fasd', 'adhd', 'query anxiety disorder', 'insecure attachment with violence when his relational needs are not met', '']\n",
      "**************\n",
      "Suicide Removal for : ['major depressive disorder with suicidal ideation', 'social anxiety disorder', 'panic disorder', 'psychosocial stressors: starting a new school', 'social isolation', 'rule out paradoxical disinhibition secondary to benzodiazapines']\n",
      "**************\n",
      "Suicide Removal for : ['major depressive disorder with suicidality and suicide attempt', 'unspecified anxiety', 'rule out anxiety disorder', 'numerous psychosocial stressors and parent-child relational difficulties', '']\n",
      "**************\n",
      "Suicide Removal for : ['major depressive disorder with suicidal ideation', 'anxiety and obsessive traits', '']\n",
      "**************\n"
     ]
    }
   ],
   "source": [
    "## Module 2: Fill in main diagnosis\n",
    "set_main_diagnosis(sheet1, \"admission\", ColNames)\n",
    "set_main_diagnosis(sheet1, \"discharge\", ColNames)"
   ]
  },
  {
   "cell_type": "code",
   "execution_count": 8,
   "metadata": {},
   "outputs": [],
   "source": [
    "## Module 3: Read Diagnosis, break into substrings, fill in\n",
    "one_hot_encode_diagnoses(sheet1, 'admission', ColNames)\n",
    "one_hot_encode_diagnoses(sheet1, 'discharge', ColNames)"
   ]
  },
  {
   "cell_type": "code",
   "execution_count": 9,
   "metadata": {
    "scrolled": true
   },
   "outputs": [],
   "source": [
    "## Output file\n",
    "workbook.save(\"output-{}.xlsx\".format(getTime()))"
   ]
  }
 ],
 "metadata": {
  "kernelspec": {
   "display_name": "Python 3",
   "language": "python",
   "name": "python3"
  },
  "language_info": {
   "codemirror_mode": {
    "name": "ipython",
    "version": 3
   },
   "file_extension": ".py",
   "mimetype": "text/x-python",
   "name": "python",
   "nbconvert_exporter": "python",
   "pygments_lexer": "ipython3",
   "version": "3.6.4"
  }
 },
 "nbformat": 4,
 "nbformat_minor": 2
}
