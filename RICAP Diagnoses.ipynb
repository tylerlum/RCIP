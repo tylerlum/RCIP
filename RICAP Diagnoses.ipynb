{
 "cells": [
  {
   "cell_type": "code",
   "execution_count": 1,
   "metadata": {},
   "outputs": [],
   "source": [
    "import openpyxl"
   ]
  },
  {
   "cell_type": "code",
   "execution_count": 2,
   "metadata": {},
   "outputs": [],
   "source": [
    "%run MyFunctions.ipynb"
   ]
  },
  {
   "cell_type": "code",
   "execution_count": 3,
   "metadata": {},
   "outputs": [],
   "source": [
    "## Import data\n",
    "filename = \"ResearchInChildAndAd_DATA_2018-12-14_1531.xlsx\"\n",
    "workbook = openpyxl.load_workbook(filename)\n",
    "sheet1 = workbook[\"ResearchInChildAndAd_DATA_2018-\"]\n",
    "sheet2 = workbook[\"Tasks\"]\n",
    "sheet3 = workbook[\"Illness_Keywords\"]"
   ]
  },
  {
   "cell_type": "code",
   "execution_count": 4,
   "metadata": {},
   "outputs": [],
   "source": [
    "## Make columns for new data\n",
    "IGNORE_KEYWORDS = ['query', 'vs', 'r/o', 'rule out', 'versus']\n",
    "sheet3_columns = get_column_names(sheet3)\n",
    "ILLNESS_KEYWORDS = read_in_illness_keywords(sheet3, sheet3_columns)\n",
    "\n",
    "ILLNESSES = get_key_list(ILLNESS_KEYWORDS)\n",
    "\n",
    "## Add columns\n",
    "set_headers(sheet1, 'admission', ILLNESSES)\n",
    "set_headers(sheet1, 'discharge', ILLNESSES)"
   ]
  },
  {
   "cell_type": "code",
   "execution_count": 5,
   "metadata": {},
   "outputs": [],
   "source": [
    "## Create a dictionary of column names\n",
    "column_names = get_column_names(sheet1)"
   ]
  },
  {
   "cell_type": "code",
   "execution_count": 6,
   "metadata": {},
   "outputs": [],
   "source": [
    "## Module 1: Set binary values to 0\n",
    "set_binaries_to_zero(sheet1, \"admission\", ILLNESSES)\n",
    "set_binaries_to_zero(sheet1, \"discharge\", ILLNESSES)"
   ]
  },
  {
   "cell_type": "code",
   "execution_count": 7,
   "metadata": {},
   "outputs": [],
   "source": [
    "## Module 2: Fill in main diagnosis\n",
    "set_main_diagnosis(sheet1, \"admission\", IGNORE_KEYWORDS, ILLNESS_KEYWORDS)\n",
    "set_main_diagnosis(sheet1, \"discharge\", IGNORE_KEYWORDS, ILLNESS_KEYWORDS)"
   ]
  },
  {
   "cell_type": "code",
   "execution_count": 8,
   "metadata": {},
   "outputs": [],
   "source": [
    "## Module 3: Read Diagnosis, break into substrings, fill in\n",
    "one_hot_encode_diagnoses(sheet1, 'admission', IGNORE_KEYWORDS, ILLNESS_KEYWORDS)\n",
    "one_hot_encode_diagnoses(sheet1, 'discharge', IGNORE_KEYWORDS, ILLNESS_KEYWORDS)"
   ]
  },
  {
   "cell_type": "code",
   "execution_count": 9,
   "metadata": {
    "scrolled": true
   },
   "outputs": [],
   "source": [
    "## Output file\n",
    "workbook.save(\"output-{}.xlsx\".format(getTime()))"
   ]
  },
  {
   "cell_type": "code",
   "execution_count": 10,
   "metadata": {},
   "outputs": [
    {
     "name": "stdout",
     "output_type": "stream",
     "text": [
      "['Neurodevelopmental', 'ADHD', 'Intellectual Disability/Global Developmental Delay', 'ASD', 'FASD', 'Schizophrenia Spectrum and Other Psychotic Disorders', 'Bipolar', 'Depression', 'Anxiety', 'OCD', 'Trauma', 'Dissociative', 'Somatic', 'Eating', 'Elimination', 'Sleep-Wake Disorders', 'Gender Dysphoria', 'Disruptive, Impulse-Control, and Conduct', 'Substance-Related and Addictive', 'Personality', 'Suicidal', 'Parent-Child Relational Issues', 'Learning']\n",
      "***\n",
      "{'Neurodevelopmental': ['neurodevelopment', 'cerebral', 'palsy', 'chromosom', 'xxx', 'triplex', 'tic', 'prader', 'microdeletion', 'potocki', 'processing', 'neurocognitive', 'tourette'], 'ADHD': ['attention', 'adhd', 'add'], 'Intellectual Disability/Global Developmental Delay': ['intellectual', 'id', 'global', 'gdd', 'delay'], 'ASD': ['autis', 'asd'], 'FASD': ['fasd', 'fetal'], 'Schizophrenia Spectrum and Other Psychotic Disorders': ['schizo', 'psychos', 'psychot', 'delusion', 'catatoni'], 'Bipolar': ['bipolar', 'mani'], 'Depression': ['depress', 'mdd', 'pdd', 'mood', 'dysthymi', 'premenstrual', 'seasonal'], 'Anxiety': ['anxiety', 'panic', 'phobi', 'mutism', 'gad'], 'OCD': ['obsess', 'compuls', 'ocd', 'dysmorphi', 'hoarding', 'excoriation'], 'Trauma': ['attach', 'trauma', 'ptsd', 'adjust', 'abuse', 'assault'], 'Dissociative': ['dissociat', 'depersonalization', 'derealization'], 'Somatic': ['somati', 'conversion'], 'Eating': ['eating', 'anorexi', 'bulimi', 'binge', 'pica', 'arfid', 'intake', 'feeding'], 'Elimination': ['enuresis', 'elimination', 'encopresis'], 'Sleep-Wake Disorders': ['somn', 'apnea', 'nightmare', 'sleep'], 'Gender Dysphoria': ['gender'], 'Disruptive, Impulse-Control, and Conduct': ['opposit', 'defiant', 'odd', 'conduct', 'antisocial', 'omani', 'disruptive', 'impulse', 'explosive', 'ied'], 'Substance-Related and Addictive': ['sud', 'usedisorder', 'intoxicat', 'withdrawal'], 'Personality': ['cluster', 'personality', 'histrionic', 'borderline', 'antisocial', 'narcissist'], 'Suicidal': ['suicid'], 'Parent-Child Relational Issues': ['parent'], 'Learning': ['learning', 'dyslexi', 'communi']}\n"
     ]
    }
   ],
   "source": [
    "print(ILLNESSES)\n",
    "print(\"***\")\n",
    "print(ILLNESS_KEYWORDS)"
   ]
  }
 ],
 "metadata": {
  "kernelspec": {
   "display_name": "Python 3",
   "language": "python",
   "name": "python3"
  },
  "language_info": {
   "codemirror_mode": {
    "name": "ipython",
    "version": 3
   },
   "file_extension": ".py",
   "mimetype": "text/x-python",
   "name": "python",
   "nbconvert_exporter": "python",
   "pygments_lexer": "ipython3",
   "version": "3.6.4"
  }
 },
 "nbformat": 4,
 "nbformat_minor": 2
}
